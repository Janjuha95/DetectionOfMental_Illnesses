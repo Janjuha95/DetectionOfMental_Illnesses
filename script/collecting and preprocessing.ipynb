{
 "cells": [
  {
   "cell_type": "code",
   "execution_count": 2,
   "metadata": {},
   "outputs": [],
   "source": [
    "from IPython.core.interactiveshell import InteractiveShell\n",
    "InteractiveShell.ast_node_interactivity = \"all\"\n",
    "import sys \n",
    "import os\n",
    "import numpy as np\n",
    "import pandas as pd\n",
    "import random"
   ]
  },
  {
   "cell_type": "code",
   "execution_count": null,
   "metadata": {},
   "outputs": [],
   "source": [
    "pip install tweepy"
   ]
  },
  {
   "cell_type": "code",
   "execution_count": 18,
   "metadata": {},
   "outputs": [],
   "source": [
    "import os\n",
    "import tweepy\n",
    "import pandas as pd"
   ]
  },
  {
   "cell_type": "code",
   "execution_count": null,
   "metadata": {},
   "outputs": [],
   "source": [
    "auth = tweepy.OAuthHandler(api_key, api_key_secret)\n",
    "auth.set_access_token(access_token, access_token_secret)\n",
    "\n",
    "api = tweepy.API(auth, wait_on_rate_limit=False, compression=True)"
   ]
  },
  {
   "cell_type": "code",
   "execution_count": 22,
   "metadata": {},
   "outputs": [],
   "source": [
    "if (not api):\n",
    "    print (\"Can't Authenticate\")\n",
    "    sys.exit(-1)"
   ]
  },
  {
   "cell_type": "code",
   "execution_count": 31,
   "metadata": {},
   "outputs": [],
   "source": [
    "api_key = 'pqyypjBZjRJE01K8oGTc9vewo'\n",
    "api_key_secret = 'zL783BSOm2h9ayx0DSLuuW39BGl1SEBSJruub01XwpD3fHuOwO'\n",
    "access_token = '1574745996017381376-Htp3FCXC7hwqDLhVLtbAmZTzNkevcI'\n",
    "access_token_secret = '1uFNX9ahcUN2Pe60upbqBUZVwxECUAuKSAhG7oi6JVlZX'"
   ]
  },
  {
   "cell_type": "code",
   "execution_count": 34,
   "metadata": {},
   "outputs": [],
   "source": [
    "auth = tweepy.OAuthHandler(api_key, api_key_secret)\n",
    "auth.set_access_token(access_token, access_token_secret)\n",
    "\n",
    "api = tweepy.API(auth, wait_on_rate_limit=True)"
   ]
  },
  {
   "cell_type": "code",
   "execution_count": 39,
   "metadata": {},
   "outputs": [],
   "source": [
    "count = 10000\n",
    "\n",
    "def get_tweets(searchQuery):\n",
    "    \n",
    "    try:\n",
    "        tweets = tweepy.Cursor(api.search_tweets, q = searchQuery, tweet_mode = \"extended\", \n",
    "                           result_type = \"mixed\", lang= \"en\").items(count)\n",
    "        tweets_list = [[tweet.created_at, tweet.id, tweet.full_text, tweet.entities,\n",
    "                    tweet.retweet_count, tweet.favorite_count] for tweet in tweets]\n",
    "        tweets_df = pd.DataFrame(tweets_list, columns =[\"Date_Created\", \"Tweet_ID\", \"Full_Text\",\n",
    "                                                    \"Entities\", \"Count_Retweets\", \"Count_Favorites\"])\n",
    "    \n",
    "    except tweepy.TweepError as e:\n",
    "        print('Failed on: ' + str(e))\n",
    "        time.sleep(3)\n",
    "    \n",
    "    return tweets_df"
   ]
  },
  {
   "cell_type": "code",
   "execution_count": 40,
   "metadata": {},
   "outputs": [
    {
     "name": "stderr",
     "output_type": "stream",
     "text": [
      "Rate limit reached. Sleeping for: 793\n",
      "Rate limit reached. Sleeping for: 787\n",
      "Rate limit reached. Sleeping for: 800\n",
      "Rate limit reached. Sleeping for: 763\n",
      "Rate limit reached. Sleeping for: 786\n",
      "Rate limit reached. Sleeping for: 787\n",
      "Rate limit reached. Sleeping for: 775\n"
     ]
    }
   ],
   "source": [
    "dep_tweetsn = get_tweets(\"depression OR Depression -filter:retweets -filter:'Great Depression' -filter:links\")\n",
    "anx_tweetsn = get_tweets(\"anxiety OR Anxiety -filter:retweets -filter:links\")"
   ]
  },
  {
   "cell_type": "code",
   "execution_count": 43,
   "metadata": {},
   "outputs": [
    {
     "name": "stdout",
     "output_type": "stream",
     "text": [
      "Tweet_ID\n",
      "1574510198751911948    1\n",
      "1574510221770178560    1\n",
      "1574510289168498689    1\n",
      "1574510299205730304    1\n",
      "1574510301512630272    1\n",
      "                      ..\n",
      "1575169467017236481    1\n",
      "1575169481797562377    1\n",
      "1575169505160204290    1\n",
      "1575169514739990528    1\n",
      "1575169516249575429    1\n",
      "Length: 10000, dtype: int64\n",
      "Tweet_ID\n",
      "1574454807079055360    1\n",
      "1574454810425835523    1\n",
      "1574454813948944385    1\n",
      "1574454835671629824    1\n",
      "1574454838053814273    1\n",
      "                      ..\n",
      "1575181201769308161    1\n",
      "1575181223269261312    1\n",
      "1575181236892377088    1\n",
      "1575181316588720128    1\n",
      "1575181338910789632    1\n",
      "Length: 10000, dtype: int64\n"
     ]
    },
    {
     "data": {
      "text/html": [
       "<div>\n",
       "<style scoped>\n",
       "    .dataframe tbody tr th:only-of-type {\n",
       "        vertical-align: middle;\n",
       "    }\n",
       "\n",
       "    .dataframe tbody tr th {\n",
       "        vertical-align: top;\n",
       "    }\n",
       "\n",
       "    .dataframe thead th {\n",
       "        text-align: right;\n",
       "    }\n",
       "</style>\n",
       "<table border=\"1\" class=\"dataframe\">\n",
       "  <thead>\n",
       "    <tr style=\"text-align: right;\">\n",
       "      <th></th>\n",
       "      <th>Date_Created</th>\n",
       "      <th>Tweet_ID</th>\n",
       "      <th>Full_Text</th>\n",
       "      <th>Entities</th>\n",
       "      <th>Count_Retweets</th>\n",
       "      <th>Count_Favorites</th>\n",
       "      <th>MI_Type</th>\n",
       "    </tr>\n",
       "  </thead>\n",
       "  <tbody>\n",
       "    <tr>\n",
       "      <th>0</th>\n",
       "      <td>2022-09-27 17:18:42+00:00</td>\n",
       "      <td>1574810776933527553</td>\n",
       "      <td>Psilocybin, the active ingredient found in mag...</td>\n",
       "      <td>{'hashtags': [], 'symbols': [], 'user_mentions...</td>\n",
       "      <td>677</td>\n",
       "      <td>5150</td>\n",
       "      <td>depression</td>\n",
       "    </tr>\n",
       "    <tr>\n",
       "      <th>1</th>\n",
       "      <td>2022-09-27 21:59:17+00:00</td>\n",
       "      <td>1574881389358489610</td>\n",
       "      <td>If you or anyone you love is experiencing deep...</td>\n",
       "      <td>{'hashtags': [], 'symbols': [], 'user_mentions...</td>\n",
       "      <td>265</td>\n",
       "      <td>856</td>\n",
       "      <td>depression</td>\n",
       "    </tr>\n",
       "    <tr>\n",
       "      <th>2</th>\n",
       "      <td>2022-09-27 21:17:24+00:00</td>\n",
       "      <td>1574870846841167887</td>\n",
       "      <td>Post Lost Lands Depression</td>\n",
       "      <td>{'hashtags': [], 'symbols': [], 'user_mentions...</td>\n",
       "      <td>165</td>\n",
       "      <td>444</td>\n",
       "      <td>depression</td>\n",
       "    </tr>\n",
       "    <tr>\n",
       "      <th>3</th>\n",
       "      <td>2022-09-28 17:04:12+00:00</td>\n",
       "      <td>1575169516249575429</td>\n",
       "      <td>o tambien cuando dice \"discomfort of depressio...</td>\n",
       "      <td>{'hashtags': [], 'symbols': [], 'user_mentions...</td>\n",
       "      <td>0</td>\n",
       "      <td>0</td>\n",
       "      <td>depression</td>\n",
       "    </tr>\n",
       "    <tr>\n",
       "      <th>4</th>\n",
       "      <td>2022-09-28 17:04:12+00:00</td>\n",
       "      <td>1575169514739990528</td>\n",
       "      <td>i forgot ab post concert depression</td>\n",
       "      <td>{'hashtags': [], 'symbols': [], 'user_mentions...</td>\n",
       "      <td>0</td>\n",
       "      <td>0</td>\n",
       "      <td>depression</td>\n",
       "    </tr>\n",
       "  </tbody>\n",
       "</table>\n",
       "</div>"
      ],
      "text/plain": [
       "               Date_Created             Tweet_ID  \\\n",
       "0 2022-09-27 17:18:42+00:00  1574810776933527553   \n",
       "1 2022-09-27 21:59:17+00:00  1574881389358489610   \n",
       "2 2022-09-27 21:17:24+00:00  1574870846841167887   \n",
       "3 2022-09-28 17:04:12+00:00  1575169516249575429   \n",
       "4 2022-09-28 17:04:12+00:00  1575169514739990528   \n",
       "\n",
       "                                           Full_Text  \\\n",
       "0  Psilocybin, the active ingredient found in mag...   \n",
       "1  If you or anyone you love is experiencing deep...   \n",
       "2                         Post Lost Lands Depression   \n",
       "3  o tambien cuando dice \"discomfort of depressio...   \n",
       "4                i forgot ab post concert depression   \n",
       "\n",
       "                                            Entities  Count_Retweets  \\\n",
       "0  {'hashtags': [], 'symbols': [], 'user_mentions...             677   \n",
       "1  {'hashtags': [], 'symbols': [], 'user_mentions...             265   \n",
       "2  {'hashtags': [], 'symbols': [], 'user_mentions...             165   \n",
       "3  {'hashtags': [], 'symbols': [], 'user_mentions...               0   \n",
       "4  {'hashtags': [], 'symbols': [], 'user_mentions...               0   \n",
       "\n",
       "   Count_Favorites     MI_Type  \n",
       "0             5150  depression  \n",
       "1              856  depression  \n",
       "2              444  depression  \n",
       "3                0  depression  \n",
       "4                0  depression  "
      ]
     },
     "execution_count": 43,
     "metadata": {},
     "output_type": "execute_result"
    },
    {
     "name": "stdout",
     "output_type": "stream",
     "text": [
      "<class 'pandas.core.frame.DataFrame'>\n",
      "Int64Index: 20000 entries, 0 to 9999\n",
      "Data columns (total 7 columns):\n",
      " #   Column           Non-Null Count  Dtype              \n",
      "---  ------           --------------  -----              \n",
      " 0   Date_Created     20000 non-null  datetime64[ns, UTC]\n",
      " 1   Tweet_ID         20000 non-null  int64              \n",
      " 2   Full_Text        20000 non-null  object             \n",
      " 3   Entities         20000 non-null  object             \n",
      " 4   Count_Retweets   20000 non-null  int64              \n",
      " 5   Count_Favorites  20000 non-null  int64              \n",
      " 6   MI_Type          20000 non-null  object             \n",
      "dtypes: datetime64[ns, UTC](1), int64(3), object(3)\n",
      "memory usage: 1.2+ MB\n"
     ]
    }
   ],
   "source": [
    "dups_1 = dep_tweetsn.pivot_table(index =['Tweet_ID'], aggfunc = 'size')\n",
    "print(dups_1)\n",
    "\n",
    "dups_2 = anx_tweetsn.pivot_table(index =['Tweet_ID'], aggfunc = 'size')\n",
    "print(dups_2)\n",
    "\n",
    "dep_tweetsn[\"MI_Type\"] = \"depression\"\n",
    "anx_tweetsn[\"MI_Type\"] = \"anxiety\"\n",
    "\n",
    "frame = [dep_tweetsn, anx_tweetsn]\n",
    "tweets_raw = pd.concat(frame)\n",
    "\n",
    "tweets_raw.to_csv('yeah.csv')\n",
    "\n",
    "tweets_raw.head()\n",
    "tweets_raw.info()\n",
    "\n",
    "tweets_raw.to_csv('yeah.csv', index = False)\n"
   ]
  },
  {
   "cell_type": "code",
   "execution_count": 15,
   "metadata": {},
   "outputs": [
    {
     "name": "stdout",
     "output_type": "stream",
     "text": [
      "Collecting tweet-preprocessor\n",
      "  Downloading tweet_preprocessor-0.6.0-py3-none-any.whl (27 kB)\n",
      "Installing collected packages: tweet-preprocessor\n",
      "Successfully installed tweet-preprocessor-0.6.0\n",
      "Note: you may need to restart the kernel to use updated packages.\n"
     ]
    }
   ],
   "source": [
    "pip install tweet-preprocessor\n"
   ]
  },
  {
   "cell_type": "code",
   "execution_count": 16,
   "metadata": {},
   "outputs": [],
   "source": [
    "import preprocessor as p"
   ]
  },
  {
   "cell_type": "code",
   "execution_count": 2,
   "metadata": {},
   "outputs": [],
   "source": [
    "import tweepy"
   ]
  },
  {
   "cell_type": "code",
   "execution_count": 4,
   "metadata": {},
   "outputs": [],
   "source": [
    "import pandas as pd\n",
    "import re\n",
    "import sys \n",
    "import os\n"
   ]
  },
  {
   "cell_type": "code",
   "execution_count": 11,
   "metadata": {},
   "outputs": [],
   "source": [
    "raw_df = pd.read_csv('mi_twitter_data_raw.csv')"
   ]
  },
  {
   "cell_type": "code",
   "execution_count": 12,
   "metadata": {},
   "outputs": [
    {
     "name": "stdout",
     "output_type": "stream",
     "text": [
      "<class 'pandas.core.frame.DataFrame'>\n",
      "RangeIndex: 20000 entries, 0 to 19999\n",
      "Data columns (total 7 columns):\n",
      " #   Column           Non-Null Count  Dtype \n",
      "---  ------           --------------  ----- \n",
      " 0   Date_Created     20000 non-null  object\n",
      " 1   Tweet_ID         20000 non-null  int64 \n",
      " 2   Full_Text        20000 non-null  object\n",
      " 3   Entities         20000 non-null  object\n",
      " 4   Count_Retweets   20000 non-null  int64 \n",
      " 5   Count_Favorites  20000 non-null  int64 \n",
      " 6   MI_Type          20000 non-null  object\n",
      "dtypes: int64(3), object(4)\n",
      "memory usage: 1.1+ MB\n"
     ]
    },
    {
     "data": {
      "text/html": [
       "<div>\n",
       "<style scoped>\n",
       "    .dataframe tbody tr th:only-of-type {\n",
       "        vertical-align: middle;\n",
       "    }\n",
       "\n",
       "    .dataframe tbody tr th {\n",
       "        vertical-align: top;\n",
       "    }\n",
       "\n",
       "    .dataframe thead th {\n",
       "        text-align: right;\n",
       "    }\n",
       "</style>\n",
       "<table border=\"1\" class=\"dataframe\">\n",
       "  <thead>\n",
       "    <tr style=\"text-align: right;\">\n",
       "      <th></th>\n",
       "      <th>Date_Created</th>\n",
       "      <th>Tweet_ID</th>\n",
       "      <th>Full_Text</th>\n",
       "      <th>Entities</th>\n",
       "      <th>Count_Retweets</th>\n",
       "      <th>Count_Favorites</th>\n",
       "      <th>MI_Type</th>\n",
       "    </tr>\n",
       "  </thead>\n",
       "  <tbody>\n",
       "    <tr>\n",
       "      <th>19995</th>\n",
       "      <td>2022-09-26 17:44:20+00:00</td>\n",
       "      <td>1574454838053814273</td>\n",
       "      <td>@GaGa_460 @MPA_ByFresha @benji_poppins @Ratche...</td>\n",
       "      <td>{'hashtags': [], 'symbols': [], 'user_mentions...</td>\n",
       "      <td>0</td>\n",
       "      <td>3</td>\n",
       "      <td>anxiety</td>\n",
       "    </tr>\n",
       "    <tr>\n",
       "      <th>19996</th>\n",
       "      <td>2022-09-26 17:44:19+00:00</td>\n",
       "      <td>1574454835671629824</td>\n",
       "      <td>@lusciousvixen I get that. I’m not saying im n...</td>\n",
       "      <td>{'hashtags': [], 'symbols': [], 'user_mentions...</td>\n",
       "      <td>0</td>\n",
       "      <td>1</td>\n",
       "      <td>anxiety</td>\n",
       "    </tr>\n",
       "    <tr>\n",
       "      <th>19997</th>\n",
       "      <td>2022-09-26 17:44:14+00:00</td>\n",
       "      <td>1574454813948944385</td>\n",
       "      <td>My anxiety is not it</td>\n",
       "      <td>{'hashtags': [], 'symbols': [], 'user_mentions...</td>\n",
       "      <td>1</td>\n",
       "      <td>0</td>\n",
       "      <td>anxiety</td>\n",
       "    </tr>\n",
       "    <tr>\n",
       "      <th>19998</th>\n",
       "      <td>2022-09-26 17:44:13+00:00</td>\n",
       "      <td>1574454810425835523</td>\n",
       "      <td>@x_cryptonat Nothing wrong with liberating the...</td>\n",
       "      <td>{'hashtags': [], 'symbols': [], 'user_mentions...</td>\n",
       "      <td>1</td>\n",
       "      <td>14</td>\n",
       "      <td>anxiety</td>\n",
       "    </tr>\n",
       "    <tr>\n",
       "      <th>19999</th>\n",
       "      <td>2022-09-26 17:44:12+00:00</td>\n",
       "      <td>1574454807079055360</td>\n",
       "      <td>Anxiety</td>\n",
       "      <td>{'hashtags': [], 'symbols': [], 'user_mentions...</td>\n",
       "      <td>0</td>\n",
       "      <td>1</td>\n",
       "      <td>anxiety</td>\n",
       "    </tr>\n",
       "  </tbody>\n",
       "</table>\n",
       "</div>"
      ],
      "text/plain": [
       "                    Date_Created             Tweet_ID  \\\n",
       "19995  2022-09-26 17:44:20+00:00  1574454838053814273   \n",
       "19996  2022-09-26 17:44:19+00:00  1574454835671629824   \n",
       "19997  2022-09-26 17:44:14+00:00  1574454813948944385   \n",
       "19998  2022-09-26 17:44:13+00:00  1574454810425835523   \n",
       "19999  2022-09-26 17:44:12+00:00  1574454807079055360   \n",
       "\n",
       "                                               Full_Text  \\\n",
       "19995  @GaGa_460 @MPA_ByFresha @benji_poppins @Ratche...   \n",
       "19996  @lusciousvixen I get that. I’m not saying im n...   \n",
       "19997                               My anxiety is not it   \n",
       "19998  @x_cryptonat Nothing wrong with liberating the...   \n",
       "19999                                            Anxiety   \n",
       "\n",
       "                                                Entities  Count_Retweets  \\\n",
       "19995  {'hashtags': [], 'symbols': [], 'user_mentions...               0   \n",
       "19996  {'hashtags': [], 'symbols': [], 'user_mentions...               0   \n",
       "19997  {'hashtags': [], 'symbols': [], 'user_mentions...               1   \n",
       "19998  {'hashtags': [], 'symbols': [], 'user_mentions...               1   \n",
       "19999  {'hashtags': [], 'symbols': [], 'user_mentions...               0   \n",
       "\n",
       "       Count_Favorites  MI_Type  \n",
       "19995                3  anxiety  \n",
       "19996                1  anxiety  \n",
       "19997                0  anxiety  \n",
       "19998               14  anxiety  \n",
       "19999                1  anxiety  "
      ]
     },
     "execution_count": 12,
     "metadata": {},
     "output_type": "execute_result"
    }
   ],
   "source": [
    "\n",
    "raw_df.info()\n",
    "raw_df.head()\n",
    "raw_df.tail()"
   ]
  },
  {
   "cell_type": "code",
   "execution_count": 13,
   "metadata": {},
   "outputs": [],
   "source": [
    "raw_df['MI_Type'] = raw_df['MI_Type'].replace('depression', 0)\n",
    "raw_df['MI_Type'] = raw_df['MI_Type'].replace('anxiety', 1)"
   ]
  },
  {
   "cell_type": "code",
   "execution_count": 18,
   "metadata": {},
   "outputs": [],
   "source": [
    "import pandas as pd\n",
    "import re\n",
    "import preprocessor as p\n",
    "\n",
    "#removing emojis, URLs, Hashtags, etc.\n",
    "def preprocess(row):\n",
    "    text = row['Full_Text']\n",
    "    text = p.clean(text)\n",
    "    return text\n",
    "\n",
    "#additional text cleaning\n",
    "def TextClean(column):\n",
    "    column = column.apply(lambda x: re.sub('@[^\\s]+', '', str(x)))\n",
    "    column = column.apply(lambda x: re.sub(r'[^\\w\\s]', '', str(x)))\n",
    "    column = column.apply(lambda x: x.lower())\n",
    "    return column"
   ]
  },
  {
   "cell_type": "code",
   "execution_count": 19,
   "metadata": {},
   "outputs": [],
   "source": [
    "raw_df['Clean_Text'] = raw_df.apply(preprocess, axis=1) \n",
    "raw_df['Clean_Text'] = TextClean(raw_df['Clean_Text'])"
   ]
  },
  {
   "cell_type": "code",
   "execution_count": 20,
   "metadata": {},
   "outputs": [
    {
     "name": "stdout",
     "output_type": "stream",
     "text": [
      "<class 'pandas.core.frame.DataFrame'>\n",
      "Int64Index: 19652 entries, 0 to 19999\n",
      "Data columns (total 8 columns):\n",
      " #   Column           Non-Null Count  Dtype \n",
      "---  ------           --------------  ----- \n",
      " 0   Date_Created     19652 non-null  object\n",
      " 1   Tweet_ID         19652 non-null  int64 \n",
      " 2   Full_Text        19652 non-null  object\n",
      " 3   Entities         19652 non-null  object\n",
      " 4   Count_Retweets   19652 non-null  int64 \n",
      " 5   Count_Favorites  19652 non-null  int64 \n",
      " 6   MI_Type          19652 non-null  int64 \n",
      " 7   Clean_Text       19652 non-null  object\n",
      "dtypes: int64(4), object(4)\n",
      "memory usage: 1.3+ MB\n"
     ]
    }
   ],
   "source": [
    "raw_df['Clean_Text'].str.contains('great depression').sum() #1334 instances\n",
    "raw_df = raw_df[~raw_df['Clean_Text'].str.contains('great depression')]\n",
    "raw_df.info()"
   ]
  },
  {
   "cell_type": "code",
   "execution_count": 21,
   "metadata": {},
   "outputs": [],
   "source": [
    "raw_df.isna().sum()\n",
    "raw_df[raw_df['Clean_Text'].isnull()].index\n",
    "raw_df = raw_df.dropna()\n"
   ]
  },
  {
   "cell_type": "code",
   "execution_count": 22,
   "metadata": {},
   "outputs": [],
   "source": [
    "raw_df['Text_Length'] = raw_df['Clean_Text'].apply(len)\n"
   ]
  },
  {
   "cell_type": "code",
   "execution_count": 24,
   "metadata": {},
   "outputs": [],
   "source": [
    "tweets_clean = raw_df\n",
    "# output_file = os.path.join(path,'mi_twitter_data_clean.csv')\n",
    "tweets_clean.to_csv('mi_twitter_data_clean.csv', index = False)"
   ]
  },
  {
   "cell_type": "code",
   "execution_count": null,
   "metadata": {},
   "outputs": [],
   "source": []
  }
 ],
 "metadata": {
  "kernelspec": {
   "display_name": "Python 3",
   "language": "python",
   "name": "python3"
  },
  "language_info": {
   "codemirror_mode": {
    "name": "ipython",
    "version": 3
   },
   "file_extension": ".py",
   "mimetype": "text/x-python",
   "name": "python",
   "nbconvert_exporter": "python",
   "pygments_lexer": "ipython3",
   "version": "3.8.5"
  }
 },
 "nbformat": 4,
 "nbformat_minor": 4
}
